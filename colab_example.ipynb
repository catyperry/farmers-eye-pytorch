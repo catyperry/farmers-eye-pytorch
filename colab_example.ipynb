{
 "cells": [
  {
   "cell_type": "code",
   "execution_count": null,
   "id": "1f290e41",
   "metadata": {
    "vscode": {
     "languageId": "plaintext"
    }
   },
   "outputs": [],
   "source": [
    "# Clone repository or upload files\n",
    "!git clone https://github.com/catyperry/farmers-eye-pytorch.git\n",
    "%cd /content/farmers-eye-pytorch/\n",
    "\n",
    "# Install dependencies if needed\n",
    "!pip install torch torchvision timm tensorboard"
   ]
  },
  {
   "cell_type": "code",
   "execution_count": null,
   "id": "19033752",
   "metadata": {
    "vscode": {
     "languageId": "plaintext"
    }
   },
   "outputs": [],
   "source": [
    "# Only one time use necessary\n",
    "!python test_data_balanced.py"
   ]
  },
  {
   "cell_type": "code",
   "execution_count": null,
   "id": "21e5b168",
   "metadata": {
    "vscode": {
     "languageId": "plaintext"
    }
   },
   "outputs": [],
   "source": [
    "# Run training with Colab-friendly paths\n",
    "!python train.py --model mobilenet_v2 --test --num_epochs 5"
   ]
  },
  {
   "cell_type": "code",
   "execution_count": null,
   "id": "77b09b94",
   "metadata": {
    "vscode": {
     "languageId": "plaintext"
    }
   },
   "outputs": [],
   "source": [
    "%load_ext tensorboard\n",
    "%tensorboard --logdir /content/drive/MyDrive/runs"
   ]
  }
 ],
 "metadata": {
  "language_info": {
   "name": "python"
  }
 },
 "nbformat": 4,
 "nbformat_minor": 5
}
