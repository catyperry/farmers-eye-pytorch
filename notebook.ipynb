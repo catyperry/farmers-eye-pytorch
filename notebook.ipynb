{
 "cells": [
  {
   "cell_type": "markdown",
   "id": "86821e0f",
   "metadata": {},
   "source": [
    "# Running the train scripts"
   ]
  },
  {
   "cell_type": "markdown",
   "id": "4e351fe7",
   "metadata": {},
   "source": [
    "This notebook provides a step-by-step guide to running the training script, either from the terminal or from this notebook."
   ]
  },
  {
   "cell_type": "code",
   "execution_count": null,
   "id": "4ca71f52",
   "metadata": {},
   "outputs": [],
   "source": [
    "#Check if cuda is available and running on the right gpu\n",
    "import torch\n",
    "\n",
    "torch.cuda.is_available()\n",
    "torch.cuda.get_device_name()"
   ]
  },
  {
   "cell_type": "code",
   "execution_count": null,
   "id": "fa383eb2",
   "metadata": {},
   "outputs": [],
   "source": [
    "# Splits the original data set into a train data set \n",
    "# ! Run only once - before you start anything else!\n",
    "!python train_data.py"
   ]
  },
  {
   "cell_type": "code",
   "execution_count": null,
   "id": "46fedd9f",
   "metadata": {},
   "outputs": [],
   "source": [
    "# Splits the original data set into a test data set \n",
    "# ! Run only once - before you start anything else!\n",
    "!python test_data_balanced.py"
   ]
  },
  {
   "cell_type": "markdown",
   "id": "1babdd9d",
   "metadata": {},
   "source": [
    "Preprocess the images for training, so that the Image Transformation does not have to be done for at each training attempt.\n",
    "The Transformation is pretty CPU and Disk I/O heavy. Loading the preprocessed tensors eliminates that load. Also the tensors are kept in VRAM for training."
   ]
  },
  {
   "cell_type": "code",
   "execution_count": null,
   "id": "bd8d93cd",
   "metadata": {},
   "outputs": [],
   "source": [
    "#%run preprocess_transform.py --data_dir ./inputs/training --output_dir ./inputs/transformed_training\n",
    "#%run preprocess_transform.py --data_dir ./inputs/test_balanced --output_dir ./inputs/transformed_test_balanced\n",
    "\n",
    "%run preprocess_transform.py --dataset train\n",
    "%run preprocess_transform.py --dataset test_balanced"
   ]
  },
  {
   "cell_type": "markdown",
   "id": "243781ce",
   "metadata": {},
   "source": [
    "You can eiter run this in the terminal (as an example for MobileNet):\n",
    "\n",
    "```sh\n",
    "uv run train.py\n",
    "    --model_name mobilenet_v2\n",
    "    --data_dir_train inputs/data_train_local\n",
    "    --data_dir_test inputs/data_test_local\n",
    "    --output_dir outputs_mobilenet\n",
    "    --batch_size 512\n",
    "    --num_epoch 1000\n",
    "    --test True\n",
    "    --metric True\n",
    "    \n",
    "```\n",
    "\n",
    "`uv run tensorboard --logdir=runs`\n",
    "\n",
    "or use this notebook..."
   ]
  },
  {
   "cell_type": "markdown",
   "id": "5375c0d3",
   "metadata": {},
   "source": [
    "# Running MobileNet"
   ]
  },
  {
   "cell_type": "code",
   "execution_count": null,
   "id": "06ed5bf2",
   "metadata": {},
   "outputs": [],
   "source": [
    "%load_ext autoreload\n",
    "%autoreload 2\n",
    "from train import main as main_train\n",
    "\n",
    "main_train(\n",
    "    model_name='mobilenet_v2',\n",
    "    data_dir_train='inputs/data_train_local',\n",
    "    data_dir_test='inputs/data_test_local',\n",
    "    output_dir='outputs_mobilenet',\n",
    "    num_epochs = 1000, \n",
    "    learning_rate=0.0035148759,\n",
    "    batch_size=512, \n",
    "    test_every_x_epochs=3,\n",
    "    resume=False,\n",
    "    test=True, \n",
    "    metric=True\n",
    ")"
   ]
  },
  {
   "cell_type": "markdown",
   "id": "79f0c6ad",
   "metadata": {},
   "source": [
    "# Running Vision Transformer"
   ]
  },
  {
   "cell_type": "code",
   "execution_count": null,
   "id": "4c46465d",
   "metadata": {},
   "outputs": [],
   "source": [
    "%load_ext autoreload\n",
    "%autoreload 2\n",
    "from train import main as main_train\n",
    "\n",
    "\n",
    "main_train(\n",
    "    model_name='vit_base_patch16_224',\n",
    "    data_dir_train='inputs/data_train_local',\n",
    "    data_dir_test='inputs/data_test_local',\n",
    "    output_dir='outputs_vit',\n",
    "    num_epochs = 1000, \n",
    "    learning_rate=0.001,\n",
    "    batch_size=512, \n",
    "    test_every_x_epochs=3,\n",
    "    resume=False,\n",
    "    test=True, \n",
    "    metric=True, \n",
    "    optimizer_type= 'sgd', \n",
    "    momentum=0.0,\n",
    "    weight_decay=0 \n",
    ")\n"
   ]
  },
  {
   "cell_type": "markdown",
   "id": "1de53d2c",
   "metadata": {},
   "source": [
    "## Running ViT Huge Version"
   ]
  },
  {
   "cell_type": "code",
   "execution_count": null,
   "id": "820107c9",
   "metadata": {},
   "outputs": [],
   "source": [
    "%load_ext autoreload\n",
    "%autoreload 2\n",
    "from train import main as main_train\n",
    "\n",
    "main_train(\n",
    "    model_name='vit_huge_patch14_224',\n",
    "    data_dir_train='inputs/data_train_local',\n",
    "    data_dir_test='inputs/data_test_local',\n",
    "    output_model_dir='outputs_vit',\n",
    "    resume=False,\n",
    "    test=True\n",
    ")"
   ]
  },
  {
   "cell_type": "markdown",
   "id": "978127d2",
   "metadata": {},
   "source": [
    "```sh"
   ]
  },
  {
   "cell_type": "markdown",
   "id": "10110254",
   "metadata": {},
   "source": [
    "# Running Resnet"
   ]
  },
  {
   "cell_type": "code",
   "execution_count": null,
   "id": "f9c60c81",
   "metadata": {},
   "outputs": [],
   "source": [
    "%load_ext autoreload\n",
    "%autoreload 2\n",
    "from train import main as main_train\n",
    "\n",
    "main_train(\n",
    "    model_name='resnet50',\n",
    "    data_dir_train='inputs/data_train_local',\n",
    "    data_dir_test='inputs/data_test_local',\n",
    "    output_dir='outputs_resnet',\n",
    "    num_epochs = 1000, \n",
    "    learning_rate=0.01,\n",
    "    batch_size=512, \n",
    "    test_every_x_epochs=3,\n",
    "    resume=False,\n",
    "    test=True, \n",
    "    metric=True, \n",
    "    optimizer_type= 'sgd', \n",
    "    momentum=0.0,\n",
    "    weight_decay=0.1  \n",
    ")\n"
   ]
  }
 ],
 "metadata": {
  "kernelspec": {
   "display_name": "farmers-eye-pytorch",
   "language": "python",
   "name": "python3"
  },
  "language_info": {
   "codemirror_mode": {
    "name": "ipython",
    "version": 3
   },
   "file_extension": ".py",
   "mimetype": "text/x-python",
   "name": "python",
   "nbconvert_exporter": "python",
   "pygments_lexer": "ipython3",
   "version": "3.12.10"
  }
 },
 "nbformat": 4,
 "nbformat_minor": 5
}
